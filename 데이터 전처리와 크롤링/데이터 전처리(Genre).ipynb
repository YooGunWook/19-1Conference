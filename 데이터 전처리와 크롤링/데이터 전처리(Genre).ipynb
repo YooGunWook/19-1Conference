{
 "cells": [
  {
   "cell_type": "code",
   "execution_count": 11,
   "metadata": {},
   "outputs": [],
   "source": [
    "from selenium import webdriver as wd\n",
    "import time\n",
    "import pandas as pd"
   ]
  },
  {
   "cell_type": "code",
   "execution_count": 12,
   "metadata": {},
   "outputs": [],
   "source": [
    "bugs = pd.read_csv(\"Bugs.csv\")"
   ]
  },
  {
   "cell_type": "code",
   "execution_count": 13,
   "metadata": {},
   "outputs": [],
   "source": [
    "bugs[\"oneGenre\"] = \" \""
   ]
  },
  {
   "cell_type": "code",
   "execution_count": 14,
   "metadata": {},
   "outputs": [],
   "source": [
    "bugs[\"singeredit\"] = bugs[\"singer\"].str.split('(').str[0]"
   ]
  },
  {
   "cell_type": "code",
   "execution_count": 15,
   "metadata": {},
   "outputs": [
    {
     "data": {
      "text/html": [
       "<div>\n",
       "<style scoped>\n",
       "    .dataframe tbody tr th:only-of-type {\n",
       "        vertical-align: middle;\n",
       "    }\n",
       "\n",
       "    .dataframe tbody tr th {\n",
       "        vertical-align: top;\n",
       "    }\n",
       "\n",
       "    .dataframe thead th {\n",
       "        text-align: right;\n",
       "    }\n",
       "</style>\n",
       "<table border=\"1\" class=\"dataframe\">\n",
       "  <thead>\n",
       "    <tr style=\"text-align: right;\">\n",
       "      <th></th>\n",
       "      <th>year</th>\n",
       "      <th>title</th>\n",
       "      <th>singer</th>\n",
       "      <th>genre</th>\n",
       "      <th>runtime</th>\n",
       "      <th>type</th>\n",
       "      <th>lyric</th>\n",
       "      <th>oneGenre</th>\n",
       "      <th>singeredit</th>\n",
       "    </tr>\n",
       "  </thead>\n",
       "  <tbody>\n",
       "    <tr>\n",
       "      <th>0</th>\n",
       "      <td>2018년 베스트 가요 콜렉션</td>\n",
       "      <td>사랑을 했다 (LOVE SCENARIO)</td>\n",
       "      <td>iKON</td>\n",
       "      <td>랩/힙합</td>\n",
       "      <td>03:29</td>\n",
       "      <td>그룹 (남성)</td>\n",
       "      <td>사랑을 했다 우리가 만나\\r\\n지우지 못할 추억이 됐다\\r\\n볼만한 멜로드라마\\r\\...</td>\n",
       "      <td></td>\n",
       "      <td>iKON</td>\n",
       "    </tr>\n",
       "    <tr>\n",
       "      <th>1</th>\n",
       "      <td>2018년 베스트 가요 콜렉션</td>\n",
       "      <td>그날처럼</td>\n",
       "      <td>장덕철</td>\n",
       "      <td>발라드/댄스/팝</td>\n",
       "      <td>03:52</td>\n",
       "      <td>그룹 (남성)</td>\n",
       "      <td>참 많은 시간이 흘러가고\\r\\n넌 어떻게 사는지 참 궁금해\\r\\n날 걱정하는 사람들...</td>\n",
       "      <td></td>\n",
       "      <td>장덕철</td>\n",
       "    </tr>\n",
       "    <tr>\n",
       "      <th>2</th>\n",
       "      <td>2018년 베스트 가요 콜렉션</td>\n",
       "      <td>선물</td>\n",
       "      <td>멜로망스(MeloMance)</td>\n",
       "      <td>인디, 발라드/댄스/팝</td>\n",
       "      <td>04:20</td>\n",
       "      <td>듀오 (남성)</td>\n",
       "      <td>빛이 들어오면 자연스레 뜨던 눈 \\r\\n그렇게 너의 눈빛을 보곤\\r\\n사랑에 눈을 ...</td>\n",
       "      <td></td>\n",
       "      <td>멜로망스</td>\n",
       "    </tr>\n",
       "    <tr>\n",
       "      <th>3</th>\n",
       "      <td>2018년 베스트 가요 콜렉션</td>\n",
       "      <td>모든 날, 모든 순간 (Every day, Every Moment)</td>\n",
       "      <td>폴킴(Paul Kim) CONNECT 아티스트</td>\n",
       "      <td>발라드/댄스/팝, OST</td>\n",
       "      <td>03:30</td>\n",
       "      <td>솔로 (남성)</td>\n",
       "      <td>네가 없이 웃을 수 있을까\\r\\n생각만 해도 눈물이나\\r\\n힘든 시간 날 지켜준 사...</td>\n",
       "      <td></td>\n",
       "      <td>폴킴</td>\n",
       "    </tr>\n",
       "    <tr>\n",
       "      <th>4</th>\n",
       "      <td>2018년 베스트 가요 콜렉션</td>\n",
       "      <td>뚜두뚜두 (DDU-DU DDU-DU)</td>\n",
       "      <td>BLACKPINK</td>\n",
       "      <td>발라드/댄스/팝</td>\n",
       "      <td>03:29</td>\n",
       "      <td>그룹 (여성)</td>\n",
       "      <td>착한 얼굴에 그렇지 못한 태도\\r\\n가녀린 몸매 속 가려진 Volume은 두 배로\\...</td>\n",
       "      <td></td>\n",
       "      <td>BLACKPINK</td>\n",
       "    </tr>\n",
       "  </tbody>\n",
       "</table>\n",
       "</div>"
      ],
      "text/plain": [
       "               year                                  title  \\\n",
       "0  2018년 베스트 가요 콜렉션                 사랑을 했다 (LOVE SCENARIO)   \n",
       "1  2018년 베스트 가요 콜렉션                                   그날처럼   \n",
       "2  2018년 베스트 가요 콜렉션                                     선물   \n",
       "3  2018년 베스트 가요 콜렉션  모든 날, 모든 순간 (Every day, Every Moment)   \n",
       "4  2018년 베스트 가요 콜렉션                   뚜두뚜두 (DDU-DU DDU-DU)   \n",
       "\n",
       "                      singer          genre runtime     type  \\\n",
       "0                       iKON           랩/힙합   03:29  그룹 (남성)   \n",
       "1                        장덕철       발라드/댄스/팝   03:52  그룹 (남성)   \n",
       "2            멜로망스(MeloMance)   인디, 발라드/댄스/팝   04:20  듀오 (남성)   \n",
       "3  폴킴(Paul Kim) CONNECT 아티스트  발라드/댄스/팝, OST   03:30  솔로 (남성)   \n",
       "4                  BLACKPINK       발라드/댄스/팝   03:29  그룹 (여성)   \n",
       "\n",
       "                                               lyric oneGenre singeredit  \n",
       "0  사랑을 했다 우리가 만나\\r\\n지우지 못할 추억이 됐다\\r\\n볼만한 멜로드라마\\r\\...                iKON  \n",
       "1  참 많은 시간이 흘러가고\\r\\n넌 어떻게 사는지 참 궁금해\\r\\n날 걱정하는 사람들...                 장덕철  \n",
       "2  빛이 들어오면 자연스레 뜨던 눈 \\r\\n그렇게 너의 눈빛을 보곤\\r\\n사랑에 눈을 ...                멜로망스  \n",
       "3  네가 없이 웃을 수 있을까\\r\\n생각만 해도 눈물이나\\r\\n힘든 시간 날 지켜준 사...                  폴킴  \n",
       "4  착한 얼굴에 그렇지 못한 태도\\r\\n가녀린 몸매 속 가려진 Volume은 두 배로\\...           BLACKPINK  "
      ]
     },
     "execution_count": 15,
     "metadata": {},
     "output_type": "execute_result"
    }
   ],
   "source": [
    "bugs.head()"
   ]
  },
  {
   "cell_type": "code",
   "execution_count": 16,
   "metadata": {},
   "outputs": [],
   "source": [
    "path = \"/Users/YONGHA.LEE/chromedriver\"\n",
    "driver = wd.Chrome(path)"
   ]
  },
  {
   "cell_type": "code",
   "execution_count": null,
   "metadata": {},
   "outputs": [],
   "source": [
    "url = 'https://www.melon.com/'\n",
    "driver.get(url)"
   ]
  },
  {
   "cell_type": "code",
   "execution_count": null,
   "metadata": {},
   "outputs": [],
   "source": [
    "for index, row in bugs.iterrows():\n",
    "    try: \n",
    "        elem = driver.find_element_by_id('top_search')\n",
    "        finder = driver.find_element_by_css_selector('.btn_icon.search_m')\n",
    "\n",
    "        word = bugs.loc[index, \"title\"] + \" \" + bugs.loc[index, \"singeredit\"]\n",
    "        elem.clear()\n",
    "        elem.send_keys(word)\n",
    "        finder.click()    \n",
    "\n",
    "        finder2 = driver.find_element_by_css_selector('.btn_icon_detail')\n",
    "        finder2.click()\n",
    "\n",
    "        bugs[\"oneGenre\"][index] = driver.find_element_by_css_selector('#downloadfrm > div > div > div.entry > div.meta > dl > dd:nth-child(6)').text\n",
    "    except:\n",
    "        bugs[\"oneGenre\"][index] = bugs[\"genre\"][index]"
   ]
  },
  {
   "cell_type": "code",
   "execution_count": null,
   "metadata": {},
   "outputs": [],
   "source": [
    "driver.close()"
   ]
  },
  {
   "cell_type": "code",
   "execution_count": null,
   "metadata": {},
   "outputs": [],
   "source": [
    "bugs[\"genre\"] = bugs[\"oneGenre\"]"
   ]
  },
  {
   "cell_type": "code",
   "execution_count": null,
   "metadata": {},
   "outputs": [],
   "source": [
    "del bugs[\"singeredit\"]\n",
    "del bugs[\"oneGenre\"]"
   ]
  },
  {
   "cell_type": "code",
   "execution_count": null,
   "metadata": {},
   "outputs": [],
   "source": [
    "bugs.head(30)"
   ]
  },
  {
   "cell_type": "code",
   "execution_count": null,
   "metadata": {},
   "outputs": [],
   "source": []
  }
 ],
 "metadata": {
  "kernelspec": {
   "display_name": "Python 3",
   "language": "python",
   "name": "python3"
  },
  "language_info": {
   "codemirror_mode": {
    "name": "ipython",
    "version": 3
   },
   "file_extension": ".py",
   "mimetype": "text/x-python",
   "name": "python",
   "nbconvert_exporter": "python",
   "pygments_lexer": "ipython3",
   "version": "3.7.1"
  }
 },
 "nbformat": 4,
 "nbformat_minor": 2
}
